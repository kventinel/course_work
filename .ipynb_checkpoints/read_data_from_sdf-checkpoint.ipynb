{
 "cells": [
  {
   "cell_type": "code",
   "execution_count": 5,
   "metadata": {},
   "outputs": [
    {
     "name": "stdout",
     "output_type": "stream",
     "text": [
      "['V30', '1', 'O', '3.3477', '-0.3615', '-0.1807', '0']\n",
      "['V30', '2', 'C', '2.3227', '-1.2384', '-0.0807', '0']\n",
      "['V30', '3', 'C', '2.8607', '0.9094', '0.2321', '0', 'CFG=2']\n",
      "['V30', '4', 'N', '1.2177', '-0.6833', '0.3412', '0']\n",
      "['V30', '5', 'N', '2.4407', '-2.5542', '-0.3946', '0']\n",
      "['V30', '6', 'C', '1.3836', '0.6635', '0.5682', '0', 'CFG=2']\n",
      "['V30', '7', 'C', '2.8816', '1.9384', '-0.9096', '0', 'CFG=1']\n",
      "['V30', '8', 'C', '1.3176', '-3.4251', '-0.2735', '0']\n",
      "['V30', '9', 'C', '3.6965', '-3.0521', '-0.8495', '0']\n",
      "['V30', '10', 'C', '0.5686', '1.5396', '-0.3945', '0', 'CFG=2']\n",
      "['V30', '11', 'C', '1.5346', '2.6584', '-0.7905', '0', 'CFG=2']\n",
      "['V30', '12', 'C', '4.0765', '2.8995', '-0.8275', '0']\n",
      "['V30', '13', 'O', '-0.6013', '2.0536', '0.2273', '0']\n",
      "['V30', '14', 'O', '1.1555', '3.2655', '-2.0174', '0']\n",
      "['V30', '15', 'O', '4.0743', '3.6035', '0.4083', '0']\n",
      "['V30', '16', 'H', '3.3965', '1.2684', '1.1122', '0']\n",
      "['V30', '17', 'H', '1.1786', '0.9195', '1.6082', '0']\n",
      "['V30', '18', 'H', '2.9125', '1.4104', '-1.8634', '0']\n",
      "['V30', '19', 'H', '1.5756', '-4.444', '-0.5655', '0']\n",
      "['V30', '20', 'H', '0.9705', '-3.4391', '0.7603', '0']\n",
      "['V30', '21', 'H', '0.5085', '-3.076', '-0.9174', '0']\n",
      "['V30', '22', 'H', '3.6415', '-4.119', '-1.0674', '0']\n",
      "['V30', '23', 'H', '3.9934', '-2.528', '-1.7594', '0']\n",
      "['V30', '24', 'H', '4.4564', '-2.8941', '-0.0824', '0']\n",
      "['V30', '25', 'H', '0.2945', '0.9676', '-1.2834', '0']\n",
      "['V30', '26', 'H', '1.5734', '3.4065', '0.0025', '0']\n",
      "['V30', '27', 'H', '5.0024', '2.3306', '-0.9144', '0']\n",
      "['V30', '28', 'H', '4.0194', '3.6155', '-1.6474', '0']\n",
      "['V30', '29', 'H', '-1.2253', '1.3626', '0.5355', '0']\n",
      "['V30', '30', 'H', '0.2695', '3.6855', '-1.9953', '0']\n",
      "['V30', '31', 'H', '4.8172', '4.2335', '0.5164', '0']\n",
      "['V30', 'END', 'ATOM']\n"
     ]
    },
    {
     "ename": "IndexError",
     "evalue": "list index out of range",
     "output_type": "error",
     "traceback": [
      "\u001b[0;31m---------------------------------------------------------------------------\u001b[0m",
      "\u001b[0;31mIndexError\u001b[0m                                Traceback (most recent call last)",
      "\u001b[0;32m<ipython-input-5-6eabb5e7f589>\u001b[0m in \u001b[0;36m<module>\u001b[0;34m()\u001b[0m\n\u001b[1;32m     16\u001b[0m             \u001b[0msplit\u001b[0m \u001b[0;34m=\u001b[0m \u001b[0mline\u001b[0m\u001b[0;34m[\u001b[0m\u001b[0;36m3\u001b[0m\u001b[0;34m:\u001b[0m\u001b[0;34m-\u001b[0m\u001b[0;36m1\u001b[0m\u001b[0;34m]\u001b[0m\u001b[0;34m.\u001b[0m\u001b[0msplit\u001b[0m\u001b[0;34m(\u001b[0m\u001b[0;34m' '\u001b[0m\u001b[0;34m)\u001b[0m\u001b[0;34m\u001b[0m\u001b[0m\n\u001b[1;32m     17\u001b[0m             \u001b[0mprint\u001b[0m\u001b[0;34m(\u001b[0m\u001b[0msplit\u001b[0m\u001b[0;34m)\u001b[0m\u001b[0;34m\u001b[0m\u001b[0m\n\u001b[0;32m---> 18\u001b[0;31m             \u001b[0mstructure\u001b[0m\u001b[0;34m.\u001b[0m\u001b[0mappend\u001b[0m\u001b[0;34m(\u001b[0m\u001b[0;34m[\u001b[0m\u001b[0msplit\u001b[0m\u001b[0;34m[\u001b[0m\u001b[0;36m2\u001b[0m\u001b[0;34m]\u001b[0m\u001b[0;34m,\u001b[0m \u001b[0mfloat\u001b[0m\u001b[0;34m(\u001b[0m\u001b[0msplit\u001b[0m\u001b[0;34m[\u001b[0m\u001b[0;36m3\u001b[0m\u001b[0;34m]\u001b[0m\u001b[0;34m)\u001b[0m\u001b[0;34m,\u001b[0m \u001b[0mfloat\u001b[0m\u001b[0;34m(\u001b[0m\u001b[0msplit\u001b[0m\u001b[0;34m[\u001b[0m\u001b[0;36m4\u001b[0m\u001b[0;34m]\u001b[0m\u001b[0;34m)\u001b[0m\u001b[0;34m,\u001b[0m \u001b[0mfloat\u001b[0m\u001b[0;34m(\u001b[0m\u001b[0msplit\u001b[0m\u001b[0;34m[\u001b[0m\u001b[0;36m5\u001b[0m\u001b[0;34m]\u001b[0m\u001b[0;34m)\u001b[0m\u001b[0;34m]\u001b[0m\u001b[0;34m)\u001b[0m\u001b[0;34m\u001b[0m\u001b[0m\n\u001b[0m\u001b[1;32m     19\u001b[0m         \u001b[0;32mif\u001b[0m \u001b[0mline\u001b[0m \u001b[0;34m==\u001b[0m \u001b[0;34m'M  V30 BEGIN ATOM\\n'\u001b[0m\u001b[0;34m:\u001b[0m\u001b[0;34m\u001b[0m\u001b[0m\n\u001b[1;32m     20\u001b[0m             \u001b[0matom\u001b[0m \u001b[0;34m=\u001b[0m \u001b[0;32mTrue\u001b[0m\u001b[0;34m\u001b[0m\u001b[0m\n",
      "\u001b[0;31mIndexError\u001b[0m: list index out of range"
     ]
    }
   ],
   "source": [
    "atom = False\n",
    "structure = []\n",
    "column = -1\n",
    "i = 0\n",
    "data = []\n",
    "with open('data/BindingDB_All_3D_3.sdf', 'r') as fin:\n",
    "    lines = fin.readlines()\n",
    "    for line in lines:\n",
    "        if column != -1:\n",
    "            if column == 1:\n",
    "                data[i][column] = float(line[:-1])\n",
    "            else:\n",
    "                data[i][column] = line[:-1]\n",
    "            column = -1\n",
    "        if line == 'M  V30 BEGIN ATOM\\n':\n",
    "            atom = True\n",
    "        elif line == 'M  V30 END ATOM\\n':\n",
    "            atom = False\n",
    "            data.append([0, 0, 0, 0])\n",
    "            data[i][0] = structure\n",
    "            structure = []\n",
    "        elif line == '>  <Ki (nM)>\\n':\n",
    "            column = 1\n",
    "        elif line == '>  <PDB ID(s) for Ligand-Target Complex>\\n':\n",
    "            column = 2\n",
    "        elif line == '>  <PDB ID(s) of Target Chain>\\n':\n",
    "            column = 3\n",
    "        elif line == '$$$$\\n':\n",
    "            i += 1\n",
    "        elif atom:\n",
    "            split = line[3:-1].split(' ')\n",
    "            structure.append([split[2], float(split[3]), float(split[4]), float(split[5])])"
   ]
  }
 ],
 "metadata": {
  "kernelspec": {
   "display_name": "Python 3",
   "language": "python3",
   "name": "python3"
  },
  "language_info": {
   "codemirror_mode": {
    "name": "ipython",
    "version": 3
   },
   "file_extension": ".py",
   "mimetype": "text/x-python",
   "name": "python",
   "nbconvert_exporter": "python",
   "pygments_lexer": "ipython3",
   "version": "3.5.3"
  }
 },
 "nbformat": 4,
 "nbformat_minor": 2
}
